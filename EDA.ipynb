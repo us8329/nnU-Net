{
 "cells": [
  {
   "cell_type": "markdown",
   "id": "8979670d",
   "metadata": {},
   "source": [
    "## Create CSV file\n",
    "(For easy access of files)"
   ]
  },
  {
   "cell_type": "markdown",
   "id": "253ea508",
   "metadata": {},
   "source": [
    "We've 4 folders. 1.CT, 2.CT_dicom, 3.Mask, 4.Mask_dicom. CT_dicom contains files of a whole Lung CT. But CT contains of separate normalized image for each channel for every Lung CT image. Mask_dicom contains segmentation map."
   ]
  },
  {
   "cell_type": "markdown",
   "id": "9d2258fb",
   "metadata": {},
   "source": [
    "We've used normalized 2D images found in the CT and Mask folders in this notebook."
   ]
  },
  {
   "cell_type": "code",
   "execution_count": 6,
   "id": "d1e8ae88",
   "metadata": {},
   "outputs": [],
   "source": [
    "path = \"/home/ubuntu/dataset/emphysema/\""
   ]
  },
  {
   "cell_type": "code",
   "execution_count": 7,
   "id": "7eb9b9ca",
   "metadata": {},
   "outputs": [],
   "source": [
    "import os\n",
    "import glob\n",
    "import pandas as pd"
   ]
  },
  {
   "cell_type": "code",
   "execution_count": 8,
   "id": "04a70864",
   "metadata": {},
   "outputs": [
    {
     "name": "stdout",
     "output_type": "stream",
     "text": [
      "No.of.images: 956\n"
     ]
    }
   ],
   "source": [
    "nb_images = os.listdir(f'{path}CT')\n",
    "print(f\"No.of.images: {len(nb_images)}\")"
   ]
  },
  {
   "cell_type": "code",
   "execution_count": 9,
   "id": "9c5c58a3",
   "metadata": {},
   "outputs": [
    {
     "name": "stdout",
     "output_type": "stream",
     "text": [
      "No.of.Masks: 956\n"
     ]
    }
   ],
   "source": [
    "nb_masks = os.listdir(f'{path}Mask')\n",
    "print(f\"No.of.Masks: {len(nb_masks)}\")"
   ]
  },
  {
   "cell_type": "code",
   "execution_count": 10,
   "id": "95d9d3b0",
   "metadata": {},
   "outputs": [
    {
     "data": {
      "text/plain": [
       "True"
      ]
     },
     "execution_count": 10,
     "metadata": {},
     "output_type": "execute_result"
    }
   ],
   "source": [
    "# For clarification\n",
    "# To check whether CT and Mask files matches\n",
    "\n",
    "CT = os.listdir(f'{path}CT/')\n",
    "Mask = os.listdir(f'{path}Mask/')\n",
    "\n",
    "set(CT) == set(Mask)"
   ]
  },
  {
   "cell_type": "code",
   "execution_count": 11,
   "id": "ae0a1396",
   "metadata": {},
   "outputs": [],
   "source": [
    "nb_images = glob.glob(f'{path}CT/*/*.dcm',recursive=True)\n",
    "nb_masks = glob.glob(f\"{path}Mask/*/*.npy\",recursive=True)"
   ]
  },
  {
   "cell_type": "code",
   "execution_count": 12,
   "id": "74bfd63d",
   "metadata": {},
   "outputs": [],
   "source": [
    "dataset = pd.DataFrame({\"CT_images\":nb_images})"
   ]
  },
  {
   "cell_type": "code",
   "execution_count": 13,
   "id": "1ab90385",
   "metadata": {},
   "outputs": [
    {
     "data": {
      "text/html": [
       "<div>\n",
       "<style scoped>\n",
       "    .dataframe tbody tr th:only-of-type {\n",
       "        vertical-align: middle;\n",
       "    }\n",
       "\n",
       "    .dataframe tbody tr th {\n",
       "        vertical-align: top;\n",
       "    }\n",
       "\n",
       "    .dataframe thead th {\n",
       "        text-align: right;\n",
       "    }\n",
       "</style>\n",
       "<table border=\"1\" class=\"dataframe\">\n",
       "  <thead>\n",
       "    <tr style=\"text-align: right;\">\n",
       "      <th></th>\n",
       "      <th>CT_images</th>\n",
       "    </tr>\n",
       "  </thead>\n",
       "  <tbody>\n",
       "    <tr>\n",
       "      <th>0</th>\n",
       "      <td>/home/ubuntu/dataset/emphysema/CT/00309989/923...</td>\n",
       "    </tr>\n",
       "    <tr>\n",
       "      <th>1</th>\n",
       "      <td>/home/ubuntu/dataset/emphysema/CT/00309989/95A...</td>\n",
       "    </tr>\n",
       "    <tr>\n",
       "      <th>2</th>\n",
       "      <td>/home/ubuntu/dataset/emphysema/CT/00309989/93E...</td>\n",
       "    </tr>\n",
       "    <tr>\n",
       "      <th>3</th>\n",
       "      <td>/home/ubuntu/dataset/emphysema/CT/00309989/908...</td>\n",
       "    </tr>\n",
       "    <tr>\n",
       "      <th>4</th>\n",
       "      <td>/home/ubuntu/dataset/emphysema/CT/00309989/908...</td>\n",
       "    </tr>\n",
       "  </tbody>\n",
       "</table>\n",
       "</div>"
      ],
      "text/plain": [
       "                                           CT_images\n",
       "0  /home/ubuntu/dataset/emphysema/CT/00309989/923...\n",
       "1  /home/ubuntu/dataset/emphysema/CT/00309989/95A...\n",
       "2  /home/ubuntu/dataset/emphysema/CT/00309989/93E...\n",
       "3  /home/ubuntu/dataset/emphysema/CT/00309989/908...\n",
       "4  /home/ubuntu/dataset/emphysema/CT/00309989/908..."
      ]
     },
     "execution_count": 13,
     "metadata": {},
     "output_type": "execute_result"
    }
   ],
   "source": [
    "dataset.head()"
   ]
  },
  {
   "cell_type": "code",
   "execution_count": 14,
   "id": "3a72a9df",
   "metadata": {},
   "outputs": [
    {
     "data": {
      "text/plain": [
       "'/home/ubuntu/dataset/emphysema/CT/00309989/92366847.dcm'"
      ]
     },
     "execution_count": 14,
     "metadata": {},
     "output_type": "execute_result"
    }
   ],
   "source": [
    "dataset.iloc[0][0]"
   ]
  },
  {
   "cell_type": "code",
   "execution_count": 15,
   "id": "fa98f2b5",
   "metadata": {},
   "outputs": [
    {
     "data": {
      "text/plain": [
       "['/home/ubuntu/dataset/emphysema/CT/00309989/92366847.dcm',\n",
       " '/home/ubuntu/dataset/emphysema/CT/00309989/95A019C1.dcm',\n",
       " '/home/ubuntu/dataset/emphysema/CT/00309989/93EB4100.dcm',\n",
       " '/home/ubuntu/dataset/emphysema/CT/00309989/90818F84.dcm',\n",
       " '/home/ubuntu/dataset/emphysema/CT/00309989/90818F6B.dcm']"
      ]
     },
     "execution_count": 15,
     "metadata": {},
     "output_type": "execute_result"
    }
   ],
   "source": [
    "nb_images[:5]"
   ]
  },
  {
   "cell_type": "code",
   "execution_count": 16,
   "id": "fa9fa670",
   "metadata": {},
   "outputs": [
    {
     "data": {
      "text/plain": [
       "['/home/ubuntu/dataset/emphysema/Mask/00309989/38_mask.npy',\n",
       " '/home/ubuntu/dataset/emphysema/Mask/00309989/60_mask.npy',\n",
       " '/home/ubuntu/dataset/emphysema/Mask/00309989/44_mask.npy',\n",
       " '/home/ubuntu/dataset/emphysema/Mask/00309989/51_mask.npy',\n",
       " '/home/ubuntu/dataset/emphysema/Mask/00309989/11_mask.npy']"
      ]
     },
     "execution_count": 16,
     "metadata": {},
     "output_type": "execute_result"
    }
   ],
   "source": [
    "nb_masks[:5]"
   ]
  },
  {
   "cell_type": "markdown",
   "id": "90353f8e",
   "metadata": {},
   "source": [
    "## obj file Parser"
   ]
  },
  {
   "cell_type": "code",
   "execution_count": 17,
   "id": "9dc35774",
   "metadata": {},
   "outputs": [],
   "source": [
    "\"\"\"\n",
    "This module implements a parser for Analyze object maps (.obj files).\n",
    "\n",
    "Author: Petro Kostandy\n",
    "\"\"\"\n",
    "import struct\n",
    "import numpy as np\n",
    "\n",
    "\n",
    "class AnalyzeObject(object):\n",
    "    \"\"\"Data class storing header information about a particular object in the object map.\"\"\"\n",
    "    def __init__(self):\n",
    "        self.name = ''  # null-terminated char32 string\n",
    "        self.display_flag = 0  # int, 0 or 1\n",
    "        self.copy_flag = 0  # uint8, 0 or 1\n",
    "        self.mirror = 0  # uint8, 1-7\n",
    "        self.status = 0  # uint8, unused\n",
    "        self.n_used = 0  # uint8,\n",
    "        self.shades = 0  # uint8\n",
    "\n",
    "        self.s_red = 0  # int32\n",
    "        self.s_green = 0  # int32\n",
    "        self.s_blue = 0  # int32\n",
    "\n",
    "        self.e_red = 0  # int32\n",
    "        self.e_green = 0  # int32\n",
    "        self.e_blue = 0  # int32\n",
    "\n",
    "        self.x_rot = 0  # int32\n",
    "        self.y_rot = 0  # int32\n",
    "        self.z_rot = 0  # int32\n",
    "\n",
    "        self.x_shift = 0  # int32\n",
    "        self.y_shift = 0  # int32\n",
    "        self.z_shift = 0  # int32\n",
    "\n",
    "        self.x_center = 0  # int32\n",
    "        self.y_center = 0  # int32\n",
    "        self.z_center = 0  # int32\n",
    "\n",
    "        self.i_xrot = 0  # int32\n",
    "        self.i_yrot = 0  # int32\n",
    "        self.i_zrot = 0  # int32\n",
    "\n",
    "        self.i_xshift = 0  # int32\n",
    "        self.i_yshift = 0  # int32\n",
    "        self.i_zshift = 0  # int32\n",
    "\n",
    "        self.min_x = 0  # int16\n",
    "        self.min_y = 0  # int16\n",
    "        self.min_z = 0  # int16\n",
    "\n",
    "        self.max_x = 0  # int16\n",
    "        self.max_y = 0  # int16\n",
    "        self.max_z = 0  # int16\n",
    "\n",
    "        self.opacity = 0.0  # float32\n",
    "        self.opacity_thick = 0  # int32\n",
    "        self.blendfactor = 0.0  # float32\n",
    "\n",
    "\n",
    "class AnalyzeObjectMap(object):\n",
    "    \"\"\"Describes an object that can fully capture the contents of an Analayze object map. This\n",
    "    class can be initalized with an optional ``file`` argument.\n",
    "\n",
    "    Args:\n",
    "        file (str): Analyze object map file path. Optional.\n",
    "\n",
    "    The following attributes are initialized and populated once `from_file` is called:\n",
    "        version_code (int): File format revision number\n",
    "        version (int): .obj file version\n",
    "        width (int): Width of map in pixels\n",
    "        height (int): Height of map in pixels\n",
    "        depth (int): Depth of map in pixels\n",
    "        n_objects (int): Number of objects (up to 256)\n",
    "        n_vols (int): Number of object volumes\n",
    "\n",
    "        objects (list): List of objects included in the object map\n",
    "        vols (list): List of volumes contained within the object map;\n",
    "            where each map is a 3 dimensional array.\n",
    "\n",
    "    Usage::\n",
    "        # Create instance with file argument\n",
    "        obj_map = AnalayzeObjectMap(file='path/to/file.obj')\n",
    "\n",
    "        # Alternatively, initialize instance and then call from_file method\n",
    "        obj_map = AnalyzeObjectMap()\n",
    "        obj_map.from_file('path/to/file.obj')\n",
    "\n",
    "        # Get numpy array representing the first volume\n",
    "        obj_map.get_data(0)\n",
    "    \"\"\"\n",
    "    def __init__(self, file=None):\n",
    "        self.version_code = 0\n",
    "        self.version = 0\n",
    "        self.width = 0\n",
    "        self.height = 0\n",
    "        self.depth = 0\n",
    "        self.n_objects = 0\n",
    "        self.n_vols = 1\n",
    "\n",
    "        self.objects = []\n",
    "        self.vols = []\n",
    "\n",
    "        if file:\n",
    "            self.from_file(file)\n",
    "\n",
    "\n",
    "    @staticmethod\n",
    "    def _read_nts(bytecode):\n",
    "        \"\"\"Reads one byte at a time from file buffer until a null character is encountered.\"\"\"\n",
    "        return bytecode.split(b'\\x00')[0].decode('utf-8')\n",
    "\n",
    "\n",
    "    def from_file(self, filename, verbose=0):\n",
    "        \"\"\"Parses the .obj file that is passed preserving its header information and casting\n",
    "        the object maps as numpy arrays.\n",
    "\n",
    "        Args:\n",
    "            filename (str): Full .obj file path\n",
    "            verbose (int, optional): Defaults to 0. Controls output verbosity.\n",
    "        \"\"\"\n",
    "        with open(filename, 'rb') as f:\n",
    "            self.version_code = int.from_bytes(\n",
    "                f.read(4), byteorder='big', signed=False)\n",
    "\n",
    "            # Set header_ints and version based on version_code\n",
    "            if self.version_code < 20050829:\n",
    "                self.version = 6\n",
    "                header_ints = 4\n",
    "            else:\n",
    "                self.version = 7\n",
    "                header_ints = 5\n",
    "\n",
    "            header = []\n",
    "\n",
    "            for i in range(header_ints):\n",
    "                header.append(\n",
    "                    int.from_bytes(f.read(4), byteorder='big', signed=False))\n",
    "\n",
    "            self.width, self.height, self.depth = header[0:3]\n",
    "            self.n_objects = header[3]\n",
    "\n",
    "            if self.version > 7:\n",
    "                self.n_vols = header[4]\n",
    "\n",
    "            # Read in each object's parameters sequentially from object map header\n",
    "            # Numerics bytes are stored by Analyze in big-endian order\n",
    "            count = -1\n",
    "            self.dict_ = {}\n",
    "            for i in range(self.n_objects):\n",
    "                obj = AnalyzeObject()\n",
    "\n",
    "                obj.name = self._read_nts(f.read(32))\n",
    "                obj.display_flag = int.from_bytes(f.read(4), byteorder='big')\n",
    "                obj.copy_flag = int.from_bytes(f.read(1), byteorder='big')\n",
    "                obj.mirror = int.from_bytes(f.read(1), byteorder='big')\n",
    "                obj.status = int.from_bytes(f.read(1), byteorder='big')\n",
    "                obj.n_used = int.from_bytes(f.read(1), byteorder='big')\n",
    "                obj.shades = int.from_bytes(f.read(4), byteorder='big')\n",
    "\n",
    "                obj.s_red = int.from_bytes(f.read(4), byteorder='big')\n",
    "                obj.s_green = int.from_bytes(f.read(4), byteorder='big')\n",
    "                obj.s_blue = int.from_bytes(f.read(4), byteorder='big')\n",
    "\n",
    "                obj.e_red = int.from_bytes(f.read(4), byteorder='big')\n",
    "                obj.e_green = int.from_bytes(f.read(4), byteorder='big')\n",
    "                obj.e_blue = int.from_bytes(f.read(4), byteorder='big')\n",
    "\n",
    "                obj.x_rot = int.from_bytes(f.read(4), byteorder='big')\n",
    "                obj.y_rot = int.from_bytes(f.read(4), byteorder='big')\n",
    "                obj.z_rot = int.from_bytes(f.read(4), byteorder='big')\n",
    "\n",
    "                obj.x_shift = int.from_bytes(f.read(4), byteorder='big')\n",
    "                obj.y_shift = int.from_bytes(f.read(4), byteorder='big')\n",
    "                obj.z_shift = int.from_bytes(f.read(4), byteorder='big')\n",
    "\n",
    "                obj.x_center = int.from_bytes(f.read(4), byteorder='big')\n",
    "                obj.y_center = int.from_bytes(f.read(4), byteorder='big')\n",
    "                obj.z_center = int.from_bytes(f.read(4), byteorder='big')\n",
    "\n",
    "                obj.i_xrot = int.from_bytes(f.read(4), byteorder='big')\n",
    "                obj.i_yrot = int.from_bytes(f.read(4), byteorder='big')\n",
    "                obj.i_zrot = int.from_bytes(f.read(4), byteorder='big')\n",
    "\n",
    "                obj.i_xshift = int.from_bytes(f.read(4), byteorder='big')\n",
    "                obj.i_yshift = int.from_bytes(f.read(4), byteorder='big')\n",
    "                obj.i_zshift = int.from_bytes(f.read(4), byteorder='big')\n",
    "\n",
    "                obj.min_x = int.from_bytes(f.read(2), byteorder='big')\n",
    "                obj.min_y = int.from_bytes(f.read(2), byteorder='big')\n",
    "                obj.min_z = int.from_bytes(f.read(2), byteorder='big')\n",
    "\n",
    "                obj.max_x = int.from_bytes(f.read(2), byteorder='big')\n",
    "                obj.max_y = int.from_bytes(f.read(2), byteorder='big')\n",
    "                obj.max_z = int.from_bytes(f.read(2), byteorder='big')\n",
    "\n",
    "                obj.opacity = struct.unpack('f', f.read(4))\n",
    "                obj.opacity_thick = int.from_bytes(f.read(4), byteorder='big')\n",
    "                obj.blendfactor = struct.unpack('f', f.read(4))\n",
    "                count += 1\n",
    "                if obj.name in self.dict_:\n",
    "                    self.dict_[obj.name] = self.dict_[obj.name] + [count]\n",
    "                else:\n",
    "                    self.dict_[obj.name] = [count]\n",
    "#                 print(obj.name, count)             \n",
    "                self.objects.append(obj)\n",
    "\n",
    "            # Read in the reminader of the file, which happens to be run-length encoded\n",
    "            maps_rle = np.frombuffer(f.read(), dtype='uint8').reshape((-1, 2))\n",
    "            i = 0\n",
    "\n",
    "            # Iterate over each volume (relevant for 4-D data)\n",
    "            for _ in range(self.n_vols):\n",
    "                slice_num = 0\n",
    "                temp_vol = np.zeros((self.height, self.width, self.depth))\n",
    "\n",
    "                # Iterate over every slice separately\n",
    "                while slice_num < self.depth:\n",
    "                    pixel_num = 0\n",
    "                    temp_slice = np.zeros((self.width * self.height))\n",
    "\n",
    "                    while pixel_num < self.width * self.height:\n",
    "                        mult, num = maps_rle[i, :]\n",
    "                        temp_slice[pixel_num:pixel_num+mult] = np.repeat(num, mult)\n",
    "                        pixel_num += mult\n",
    "                        i += 1\n",
    "\n",
    "                    temp_vol[:, :, slice_num] = temp_slice.reshape(self.height, self.width)\n",
    "                    slice_num += 1\n",
    "                self.vols.append(temp_vol.copy())\n",
    "\n",
    "            if verbose > 0:\n",
    "                print('Successfully imported {0}'.format(filename))\n",
    "                print('Object map shape: {0}'.format(self.vols[0].shape))\n",
    "                print('Number of objects (includes background): {0}'.format(self.n_objects))\n",
    "                print('Number of volumes: {0}'.format(self.n_vols))\n",
    "\n",
    "\n",
    "    def get_data(self, idx=0):\n",
    "        \"\"\"Returns a numpy array representing the object map.\"\"\"\n",
    "        return self.vols[idx], self.dict_"
   ]
  },
  {
   "cell_type": "markdown",
   "id": "d915cc66",
   "metadata": {},
   "source": [
    "## Constructing Mask arrays"
   ]
  },
  {
   "cell_type": "code",
   "execution_count": 31,
   "id": "02b33685",
   "metadata": {},
   "outputs": [],
   "source": [
    "path = \"/home/ubuntu/dataset/emphysema/Mask/\""
   ]
  },
  {
   "cell_type": "code",
   "execution_count": 32,
   "id": "45f60225",
   "metadata": {},
   "outputs": [],
   "source": [
    "file_names = os.listdir(path)"
   ]
  },
  {
   "cell_type": "code",
   "execution_count": 33,
   "id": "ac65d473",
   "metadata": {},
   "outputs": [
    {
     "data": {
      "text/plain": [
       "956"
      ]
     },
     "execution_count": 33,
     "metadata": {},
     "output_type": "execute_result"
    }
   ],
   "source": [
    "len(file_names)"
   ]
  },
  {
   "cell_type": "code",
   "execution_count": 34,
   "id": "8bc13a3e",
   "metadata": {},
   "outputs": [
    {
     "data": {
      "text/plain": [
       "'00309989'"
      ]
     },
     "execution_count": 34,
     "metadata": {},
     "output_type": "execute_result"
    }
   ],
   "source": [
    "file_names[0]"
   ]
  },
  {
   "cell_type": "code",
   "execution_count": 35,
   "id": "ed2ade29",
   "metadata": {},
   "outputs": [],
   "source": [
    "mask_objs = glob.glob(f'{path}*/*.obj',recursive=True)"
   ]
  },
  {
   "cell_type": "code",
   "execution_count": 36,
   "id": "38f08b89",
   "metadata": {},
   "outputs": [
    {
     "data": {
      "text/plain": [
       "956"
      ]
     },
     "execution_count": 36,
     "metadata": {},
     "output_type": "execute_result"
    }
   ],
   "source": [
    "len(mask_objs)"
   ]
  },
  {
   "cell_type": "code",
   "execution_count": 37,
   "id": "45e352a7",
   "metadata": {},
   "outputs": [
    {
     "data": {
      "text/plain": [
       "'/home/ubuntu/dataset/emphysema/Mask/00309989/181644_Series_2_1_Emph.obj'"
      ]
     },
     "execution_count": 37,
     "metadata": {},
     "output_type": "execute_result"
    }
   ],
   "source": [
    "mask_objs[0]"
   ]
  },
  {
   "cell_type": "code",
   "execution_count": 38,
   "id": "b1335a88",
   "metadata": {},
   "outputs": [],
   "source": [
    "file_names_ = file_names\n",
    "mask_objs_ = mask_objs"
   ]
  },
  {
   "cell_type": "code",
   "execution_count": 39,
   "id": "b97597e8",
   "metadata": {},
   "outputs": [
    {
     "data": {
      "text/plain": [
       "'\\nfor batch,mask_obj in enumerate(mask_objs_):\\n    obj_map = AnalyzeObjectMap(file=mask_obj)\\n    obj_map = obj_map.get_data(0)\\n    data,_ = obj_map\\n    x,y,z = data.shape\\n    data = data.reshape((z,x,y))\\n    \\n    for i in range(z):\\n        \\n        pt = data[i]\\n        np.save(f\"{path}{file_names_[batch]}/{i}_mask.npy\",pt)\\n    print(f\\'{batch} has completed\\')\\n'"
      ]
     },
     "execution_count": 39,
     "metadata": {},
     "output_type": "execute_result"
    }
   ],
   "source": [
    "'''\n",
    "for batch,mask_obj in enumerate(mask_objs_):\n",
    "    obj_map = AnalyzeObjectMap(file=mask_obj)\n",
    "    obj_map = obj_map.get_data(0)\n",
    "    data,_ = obj_map\n",
    "    x,y,z = data.shape\n",
    "    data = data.reshape((z,x,y))\n",
    "    \n",
    "    for i in range(z):\n",
    "        \n",
    "        pt = data[i]\n",
    "        np.save(f\"{path}{file_names_[batch]}/{i}_mask.npy\",pt)\n",
    "    print(f'{batch} has completed')\n",
    "'''"
   ]
  },
  {
   "cell_type": "markdown",
   "id": "0bea9ce7",
   "metadata": {},
   "source": [
    "## Create DataFrame"
   ]
  },
  {
   "cell_type": "code",
   "execution_count": 40,
   "id": "942ee05e",
   "metadata": {},
   "outputs": [],
   "source": [
    "import os\n",
    "import glob\n",
    "import pydicom as dcm\n",
    "import pandas as pd"
   ]
  },
  {
   "cell_type": "code",
   "execution_count": 41,
   "id": "1d89e352",
   "metadata": {},
   "outputs": [],
   "source": [
    "path = \"/home/ubuntu/dataset/emphysema/\""
   ]
  },
  {
   "cell_type": "code",
   "execution_count": 42,
   "id": "b9ee0d10",
   "metadata": {},
   "outputs": [],
   "source": [
    "whole_files = os.listdir(f\"{path}Mask/\")\n",
    "ct_files = os.listdir(f\"{path}CT_dicom/\")"
   ]
  },
  {
   "cell_type": "code",
   "execution_count": 44,
   "id": "585351de",
   "metadata": {},
   "outputs": [
    {
     "ename": "KeyboardInterrupt",
     "evalue": "",
     "output_type": "error",
     "traceback": [
      "\u001b[0;31m---------------------------------------------------------------------------\u001b[0m",
      "\u001b[0;31mKeyboardInterrupt\u001b[0m                         Traceback (most recent call last)",
      "Input \u001b[0;32mIn [44]\u001b[0m, in \u001b[0;36m<module>\u001b[0;34m\u001b[0m\n\u001b[1;32m      2\u001b[0m \u001b[38;5;28;01mfor\u001b[39;00m file \u001b[38;5;129;01min\u001b[39;00m whole_files:\n\u001b[1;32m      3\u001b[0m     ct \u001b[38;5;241m=\u001b[39m os\u001b[38;5;241m.\u001b[39mlistdir(\u001b[38;5;124mf\u001b[39m\u001b[38;5;124m\"\u001b[39m\u001b[38;5;132;01m{\u001b[39;00mpath\u001b[38;5;132;01m}\u001b[39;00m\u001b[38;5;124mCT_dicom/\u001b[39m\u001b[38;5;132;01m{\u001b[39;00mfile\u001b[38;5;132;01m}\u001b[39;00m\u001b[38;5;124m\"\u001b[39m)[\u001b[38;5;241m0\u001b[39m]\n\u001b[0;32m----> 4\u001b[0m     img \u001b[38;5;241m=\u001b[39m \u001b[43mdcm\u001b[49m\u001b[38;5;241;43m.\u001b[39;49m\u001b[43mdcmread\u001b[49m\u001b[43m(\u001b[49m\u001b[38;5;124;43mf\u001b[39;49m\u001b[38;5;124;43m\"\u001b[39;49m\u001b[38;5;132;43;01m{\u001b[39;49;00m\u001b[43mpath\u001b[49m\u001b[38;5;132;43;01m}\u001b[39;49;00m\u001b[38;5;124;43mCT_dicom/\u001b[39;49m\u001b[38;5;132;43;01m{\u001b[39;49;00m\u001b[43mfile\u001b[49m\u001b[38;5;132;43;01m}\u001b[39;49;00m\u001b[38;5;124;43m/\u001b[39;49m\u001b[38;5;132;43;01m{\u001b[39;49;00m\u001b[43mct\u001b[49m\u001b[38;5;132;43;01m}\u001b[39;49;00m\u001b[38;5;124;43m\"\u001b[39;49m\u001b[43m)\u001b[49m\u001b[38;5;241m.\u001b[39mpixel_array\n\u001b[1;32m      5\u001b[0m     z,_,_ \u001b[38;5;241m=\u001b[39m img\u001b[38;5;241m.\u001b[39mshape\n\u001b[1;32m      7\u001b[0m     \u001b[38;5;28;01mfor\u001b[39;00m i \u001b[38;5;129;01min\u001b[39;00m \u001b[38;5;28mrange\u001b[39m(z):\n",
      "File \u001b[0;32m~/.local/lib/python3.8/site-packages/pydicom/filereader.py:1029\u001b[0m, in \u001b[0;36mdcmread\u001b[0;34m(fp, defer_size, stop_before_pixels, force, specific_tags)\u001b[0m\n\u001b[1;32m   1027\u001b[0m     stop_when \u001b[38;5;241m=\u001b[39m _at_pixel_data\n\u001b[1;32m   1028\u001b[0m \u001b[38;5;28;01mtry\u001b[39;00m:\n\u001b[0;32m-> 1029\u001b[0m     dataset \u001b[38;5;241m=\u001b[39m \u001b[43mread_partial\u001b[49m\u001b[43m(\u001b[49m\n\u001b[1;32m   1030\u001b[0m \u001b[43m        \u001b[49m\u001b[43mfp\u001b[49m\u001b[43m,\u001b[49m\n\u001b[1;32m   1031\u001b[0m \u001b[43m        \u001b[49m\u001b[43mstop_when\u001b[49m\u001b[43m,\u001b[49m\n\u001b[1;32m   1032\u001b[0m \u001b[43m        \u001b[49m\u001b[43mdefer_size\u001b[49m\u001b[38;5;241;43m=\u001b[39;49m\u001b[43msize_in_bytes\u001b[49m\u001b[43m(\u001b[49m\u001b[43mdefer_size\u001b[49m\u001b[43m)\u001b[49m\u001b[43m,\u001b[49m\n\u001b[1;32m   1033\u001b[0m \u001b[43m        \u001b[49m\u001b[43mforce\u001b[49m\u001b[38;5;241;43m=\u001b[39;49m\u001b[43mforce\u001b[49m\u001b[43m,\u001b[49m\n\u001b[1;32m   1034\u001b[0m \u001b[43m        \u001b[49m\u001b[43mspecific_tags\u001b[49m\u001b[38;5;241;43m=\u001b[39;49m\u001b[43mspecific_tags\u001b[49m\u001b[43m,\u001b[49m\n\u001b[1;32m   1035\u001b[0m \u001b[43m    \u001b[49m\u001b[43m)\u001b[49m\n\u001b[1;32m   1036\u001b[0m \u001b[38;5;28;01mfinally\u001b[39;00m:\n\u001b[1;32m   1037\u001b[0m     \u001b[38;5;28;01mif\u001b[39;00m \u001b[38;5;129;01mnot\u001b[39;00m caller_owns_file:\n",
      "File \u001b[0;32m~/.local/lib/python3.8/site-packages/pydicom/filereader.py:854\u001b[0m, in \u001b[0;36mread_partial\u001b[0;34m(fileobj, stop_when, defer_size, force, specific_tags)\u001b[0m\n\u001b[1;32m    850\u001b[0m \u001b[38;5;66;03m# Try and decode the dataset\u001b[39;00m\n\u001b[1;32m    851\u001b[0m \u001b[38;5;66;03m#   By this point we should be at the start of the dataset and have\u001b[39;00m\n\u001b[1;32m    852\u001b[0m \u001b[38;5;66;03m#   the transfer syntax (whether read from the file meta or guessed at)\u001b[39;00m\n\u001b[1;32m    853\u001b[0m \u001b[38;5;28;01mtry\u001b[39;00m:\n\u001b[0;32m--> 854\u001b[0m     dataset \u001b[38;5;241m=\u001b[39m \u001b[43mread_dataset\u001b[49m\u001b[43m(\u001b[49m\n\u001b[1;32m    855\u001b[0m \u001b[43m        \u001b[49m\u001b[43mfileobj\u001b[49m\u001b[43m,\u001b[49m\n\u001b[1;32m    856\u001b[0m \u001b[43m        \u001b[49m\u001b[43mis_implicit_VR\u001b[49m\u001b[43m,\u001b[49m\n\u001b[1;32m    857\u001b[0m \u001b[43m        \u001b[49m\u001b[43mis_little_endian\u001b[49m\u001b[43m,\u001b[49m\n\u001b[1;32m    858\u001b[0m \u001b[43m        \u001b[49m\u001b[43mstop_when\u001b[49m\u001b[38;5;241;43m=\u001b[39;49m\u001b[43mstop_when\u001b[49m\u001b[43m,\u001b[49m\n\u001b[1;32m    859\u001b[0m \u001b[43m        \u001b[49m\u001b[43mdefer_size\u001b[49m\u001b[38;5;241;43m=\u001b[39;49m\u001b[43mdefer_size\u001b[49m\u001b[43m,\u001b[49m\n\u001b[1;32m    860\u001b[0m \u001b[43m        \u001b[49m\u001b[43mspecific_tags\u001b[49m\u001b[38;5;241;43m=\u001b[39;49m\u001b[43mspecific_tags\u001b[49m\u001b[43m,\u001b[49m\n\u001b[1;32m    861\u001b[0m \u001b[43m    \u001b[49m\u001b[43m)\u001b[49m\n\u001b[1;32m    862\u001b[0m \u001b[38;5;28;01mexcept\u001b[39;00m \u001b[38;5;167;01mEOFError\u001b[39;00m:\n\u001b[1;32m    863\u001b[0m     \u001b[38;5;28;01mif\u001b[39;00m config\u001b[38;5;241m.\u001b[39menforce_valid_values:\n",
      "File \u001b[0;32m~/.local/lib/python3.8/site-packages/pydicom/filereader.py:428\u001b[0m, in \u001b[0;36mread_dataset\u001b[0;34m(fp, is_implicit_VR, is_little_endian, bytelength, stop_when, defer_size, parent_encoding, specific_tags, at_top_level)\u001b[0m\n\u001b[1;32m    426\u001b[0m \u001b[38;5;28;01mtry\u001b[39;00m:\n\u001b[1;32m    427\u001b[0m     \u001b[38;5;28;01mwhile\u001b[39;00m (bytelength \u001b[38;5;129;01mis\u001b[39;00m \u001b[38;5;28;01mNone\u001b[39;00m) \u001b[38;5;129;01mor\u001b[39;00m (fp\u001b[38;5;241m.\u001b[39mtell() \u001b[38;5;241m-\u001b[39m fp_start \u001b[38;5;241m<\u001b[39m bytelength):\n\u001b[0;32m--> 428\u001b[0m         raw_data_element \u001b[38;5;241m=\u001b[39m \u001b[38;5;28;43mnext\u001b[39;49m\u001b[43m(\u001b[49m\u001b[43mde_gen\u001b[49m\u001b[43m)\u001b[49m\n\u001b[1;32m    429\u001b[0m         \u001b[38;5;66;03m# Read data elements. Stop on some errors, but return what was read\u001b[39;00m\n\u001b[1;32m    430\u001b[0m         tag \u001b[38;5;241m=\u001b[39m raw_data_element\u001b[38;5;241m.\u001b[39mtag\n",
      "File \u001b[0;32m~/.local/lib/python3.8/site-packages/pydicom/filereader.py:208\u001b[0m, in \u001b[0;36mdata_element_generator\u001b[0;34m(fp, is_implicit_VR, is_little_endian, stop_when, defer_size, encoding, specific_tags)\u001b[0m\n\u001b[1;32m    205\u001b[0m     fp\u001b[38;5;241m.\u001b[39mseek(fp_tell() \u001b[38;5;241m+\u001b[39m length)\n\u001b[1;32m    206\u001b[0m \u001b[38;5;28;01melse\u001b[39;00m:\n\u001b[1;32m    207\u001b[0m     value \u001b[38;5;241m=\u001b[39m (\n\u001b[0;32m--> 208\u001b[0m         \u001b[43mfp_read\u001b[49m\u001b[43m(\u001b[49m\u001b[43mlength\u001b[49m\u001b[43m)\u001b[49m \u001b[38;5;28;01mif\u001b[39;00m length \u001b[38;5;241m>\u001b[39m \u001b[38;5;241m0\u001b[39m\n\u001b[1;32m    209\u001b[0m         \u001b[38;5;28;01melse\u001b[39;00m cast(\n\u001b[1;32m    210\u001b[0m             Optional[\u001b[38;5;28mbytes\u001b[39m], empty_value_for_VR(VR, raw\u001b[38;5;241m=\u001b[39m\u001b[38;5;28;01mTrue\u001b[39;00m)\n\u001b[1;32m    211\u001b[0m         )\n\u001b[1;32m    212\u001b[0m     )\n\u001b[1;32m    213\u001b[0m     \u001b[38;5;28;01mif\u001b[39;00m debugging:\n\u001b[1;32m    214\u001b[0m         dotdot \u001b[38;5;241m=\u001b[39m \u001b[38;5;124m\"\u001b[39m\u001b[38;5;124m...\u001b[39m\u001b[38;5;124m\"\u001b[39m \u001b[38;5;28;01mif\u001b[39;00m length \u001b[38;5;241m>\u001b[39m \u001b[38;5;241m20\u001b[39m \u001b[38;5;28;01melse\u001b[39;00m \u001b[38;5;124m\"\u001b[39m\u001b[38;5;124m   \u001b[39m\u001b[38;5;124m\"\u001b[39m\n",
      "\u001b[0;31mKeyboardInterrupt\u001b[0m: "
     ]
    }
   ],
   "source": [
    "mask_names = []\n",
    "for file in whole_files:\n",
    "    ct = os.listdir(f\"{path}CT_dicom/{file}\")[0]\n",
    "    img = dcm.dcmread(f\"{path}CT_dicom/{file}/{ct}\").pixel_array\n",
    "    z,_,_ = img.shape\n",
    "    \n",
    "    for i in range(z):\n",
    "        mask = f\"{path}Mask/{file}/{i}_mask.npy\"\n",
    "        mask_names.append(mask)"
   ]
  },
  {
   "cell_type": "code",
   "execution_count": null,
   "id": "27975788",
   "metadata": {},
   "outputs": [],
   "source": [
    "len(mask_names)"
   ]
  },
  {
   "cell_type": "code",
   "execution_count": null,
   "id": "da513d3d",
   "metadata": {},
   "outputs": [],
   "source": [
    "nb_images = glob.glob(f'{path}CT/*/*.dcm',recursive=True)\n",
    "len(nb_images)"
   ]
  },
  {
   "cell_type": "code",
   "execution_count": null,
   "id": "508c9fc5",
   "metadata": {},
   "outputs": [],
   "source": [
    "dataset = pd.DataFrame({\"CT_images\":nb_images,\"Mask_images\":mask_names})"
   ]
  },
  {
   "cell_type": "code",
   "execution_count": null,
   "id": "8980c321",
   "metadata": {},
   "outputs": [],
   "source": [
    "dataset.head()"
   ]
  },
  {
   "cell_type": "code",
   "execution_count": null,
   "id": "138fa9cc",
   "metadata": {},
   "outputs": [],
   "source": [
    "dataset.to_csv(f'{path}2D_dataset.csv',index=False)"
   ]
  },
  {
   "cell_type": "markdown",
   "id": "aae7cb3c",
   "metadata": {},
   "source": [
    "## Visualization"
   ]
  },
  {
   "cell_type": "code",
   "execution_count": 1,
   "id": "3b26a497",
   "metadata": {},
   "outputs": [],
   "source": [
    "import numpy as np\n",
    "import pandas as pd\n",
    "import matplotlib.pyplot as plt\n",
    "\n",
    "import PIL.Image as Image\n",
    "import pydicom as dcm"
   ]
  },
  {
   "cell_type": "code",
   "execution_count": 2,
   "id": "2d9649d0",
   "metadata": {},
   "outputs": [],
   "source": [
    "path = \"/home/ubuntu/dataset/emphysema/\""
   ]
  },
  {
   "cell_type": "code",
   "execution_count": 3,
   "id": "c56534e0",
   "metadata": {},
   "outputs": [],
   "source": [
    "def show_ct(file_path):\n",
    "    file = dcm.dcmread(file_path)\n",
    "    file = file.pixel_array\n",
    "    plt.figure(figsize=(8,12))\n",
    "    plt.axis('off')\n",
    "    plt.imshow(file,cmap='gray')"
   ]
  },
  {
   "cell_type": "code",
   "execution_count": 4,
   "id": "6f993ec4",
   "metadata": {},
   "outputs": [],
   "source": [
    "def show_mask(file_path):\n",
    "    file = np.load(file_path,allow_pickle=True)\n",
    "    plt.figure(figsize=(8,12))\n",
    "    plt.axis('off')\n",
    "    plt.imshow(file,cmap='gray')"
   ]
  },
  {
   "cell_type": "code",
   "execution_count": null,
   "id": "d07d6cf3",
   "metadata": {},
   "outputs": [],
   "source": []
  },
  {
   "cell_type": "code",
   "execution_count": 5,
   "id": "386aef81",
   "metadata": {},
   "outputs": [],
   "source": [
    "dataset_df = pd.read_csv(f'{path}2D_dataset.csv')"
   ]
  },
  {
   "cell_type": "code",
   "execution_count": 6,
   "id": "246bb687",
   "metadata": {},
   "outputs": [
    {
     "data": {
      "text/html": [
       "<div>\n",
       "<style scoped>\n",
       "    .dataframe tbody tr th:only-of-type {\n",
       "        vertical-align: middle;\n",
       "    }\n",
       "\n",
       "    .dataframe tbody tr th {\n",
       "        vertical-align: top;\n",
       "    }\n",
       "\n",
       "    .dataframe thead th {\n",
       "        text-align: right;\n",
       "    }\n",
       "</style>\n",
       "<table border=\"1\" class=\"dataframe\">\n",
       "  <thead>\n",
       "    <tr style=\"text-align: right;\">\n",
       "      <th></th>\n",
       "      <th>CT_images</th>\n",
       "      <th>Mask_images</th>\n",
       "    </tr>\n",
       "  </thead>\n",
       "  <tbody>\n",
       "    <tr>\n",
       "      <th>0</th>\n",
       "      <td>/home/ubuntu/dataset/emphysema/CT/00309989/923...</td>\n",
       "      <td>/home/ubuntu/dataset/emphysema/Mask/00309989/0...</td>\n",
       "    </tr>\n",
       "    <tr>\n",
       "      <th>1</th>\n",
       "      <td>/home/ubuntu/dataset/emphysema/CT/00309989/95A...</td>\n",
       "      <td>/home/ubuntu/dataset/emphysema/Mask/00309989/1...</td>\n",
       "    </tr>\n",
       "    <tr>\n",
       "      <th>2</th>\n",
       "      <td>/home/ubuntu/dataset/emphysema/CT/00309989/93E...</td>\n",
       "      <td>/home/ubuntu/dataset/emphysema/Mask/00309989/2...</td>\n",
       "    </tr>\n",
       "    <tr>\n",
       "      <th>3</th>\n",
       "      <td>/home/ubuntu/dataset/emphysema/CT/00309989/908...</td>\n",
       "      <td>/home/ubuntu/dataset/emphysema/Mask/00309989/3...</td>\n",
       "    </tr>\n",
       "    <tr>\n",
       "      <th>4</th>\n",
       "      <td>/home/ubuntu/dataset/emphysema/CT/00309989/908...</td>\n",
       "      <td>/home/ubuntu/dataset/emphysema/Mask/00309989/4...</td>\n",
       "    </tr>\n",
       "  </tbody>\n",
       "</table>\n",
       "</div>"
      ],
      "text/plain": [
       "                                           CT_images  \\\n",
       "0  /home/ubuntu/dataset/emphysema/CT/00309989/923...   \n",
       "1  /home/ubuntu/dataset/emphysema/CT/00309989/95A...   \n",
       "2  /home/ubuntu/dataset/emphysema/CT/00309989/93E...   \n",
       "3  /home/ubuntu/dataset/emphysema/CT/00309989/908...   \n",
       "4  /home/ubuntu/dataset/emphysema/CT/00309989/908...   \n",
       "\n",
       "                                         Mask_images  \n",
       "0  /home/ubuntu/dataset/emphysema/Mask/00309989/0...  \n",
       "1  /home/ubuntu/dataset/emphysema/Mask/00309989/1...  \n",
       "2  /home/ubuntu/dataset/emphysema/Mask/00309989/2...  \n",
       "3  /home/ubuntu/dataset/emphysema/Mask/00309989/3...  \n",
       "4  /home/ubuntu/dataset/emphysema/Mask/00309989/4...  "
      ]
     },
     "execution_count": 6,
     "metadata": {},
     "output_type": "execute_result"
    }
   ],
   "source": [
    "dataset_df.head()"
   ]
  },
  {
   "cell_type": "code",
   "execution_count": 7,
   "id": "7ce0bec2",
   "metadata": {},
   "outputs": [
    {
     "data": {
      "text/plain": [
       "'/home/ubuntu/dataset/emphysema/CT/00309989/93EB4100.dcm'"
      ]
     },
     "execution_count": 7,
     "metadata": {},
     "output_type": "execute_result"
    },
    {
     "data": {
      "image/png": "[encoded data removed]",
      "text/plain": [
       "<Figure size 576x864 with 1 Axes>"
      ]
     },
     "metadata": {
      "needs_background": "light"
     },
     "output_type": "display_data"
    }
   ],
   "source": [
    "show_ct(f'{dataset_df.iloc[2,0]}')\n",
    "dataset_df.iloc[2,0]"
   ]
  },
  {
   "cell_type": "code",
   "execution_count": 10,
   "id": "b2531cd6",
   "metadata": {},
   "outputs": [
    {
     "data": {
      "text/plain": [
       "'/home/ubuntu/dataset/emphysema/Mask/00312252/64_mask.npy'"
      ]
     },
     "execution_count": 10,
     "metadata": {},
     "output_type": "execute_result"
    },
    {
     "data": {
      "image/png": "[encoded data removed]",
      "text/plain": [
       "<Figure size 576x864 with 1 Axes>"
      ]
     },
     "metadata": {
      "needs_background": "light"
     },
     "output_type": "display_data"
    }
   ],
   "source": [
    "show_mask(f'{dataset_df.iloc[125,1]}')\n",
    "dataset_df.iloc[125,1]"
   ]
  },
  {
   "cell_type": "markdown",
   "id": "af262ff3",
   "metadata": {},
   "source": [
    "---"
   ]
  },
  {
   "cell_type": "code",
   "execution_count": null,
   "id": "4c901991",
   "metadata": {},
   "outputs": [],
   "source": []
  }
 ],
 "metadata": {
  "kernelspec": {
   "display_name": "Python 3 (ipykernel)",
   "language": "python",
   "name": "python3"
  },
  "language_info": {
   "codemirror_mode": {
    "name": "ipython",
    "version": 3
   },
   "file_extension": ".py",
   "mimetype": "text/x-python",
   "name": "python",
   "nbconvert_exporter": "python",
   "pygments_lexer": "ipython3",
   "version": "3.8.10"
  }
 },
 "nbformat": 4,
 "nbformat_minor": 5
}
